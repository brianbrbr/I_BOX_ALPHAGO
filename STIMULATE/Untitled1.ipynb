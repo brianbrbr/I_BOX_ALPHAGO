{
 "cells": [
  {
   "cell_type": "code",
   "execution_count": 1,
   "id": "3c50b966-d6f3-463a-af86-a31bb160aa8f",
   "metadata": {},
   "outputs": [
    {
     "ename": "NameError",
     "evalue": "name 'ibox_data' is not defined",
     "output_type": "error",
     "traceback": [
      "\u001b[1;31m---------------------------------------------------------------------------\u001b[0m",
      "\u001b[1;31mNameError\u001b[0m                                 Traceback (most recent call last)",
      "Cell \u001b[1;32mIn[1], line 11\u001b[0m\n\u001b[0;32m      8\u001b[0m marker_cluster \u001b[38;5;241m=\u001b[39m MarkerCluster()\u001b[38;5;241m.\u001b[39madd_to(taiwan_map)\n\u001b[0;32m     10\u001b[0m \u001b[38;5;66;03m# Add iPostbox locations to the map\u001b[39;00m\n\u001b[1;32m---> 11\u001b[0m \u001b[38;5;28;01mfor\u001b[39;00m index, row \u001b[38;5;129;01min\u001b[39;00m \u001b[43mibox_data\u001b[49m\u001b[38;5;241m.\u001b[39miterrows():\n\u001b[0;32m     12\u001b[0m  folium\u001b[38;5;241m.\u001b[39mMarker(\n\u001b[0;32m     13\u001b[0m  location\u001b[38;5;241m=\u001b[39m[row[\u001b[38;5;124m'\u001b[39m\u001b[38;5;124m座標y\u001b[39m\u001b[38;5;124m'\u001b[39m], row[\u001b[38;5;124m'\u001b[39m\u001b[38;5;124m座標x\u001b[39m\u001b[38;5;124m'\u001b[39m]],\n\u001b[0;32m     14\u001b[0m  popup\u001b[38;5;241m=\u001b[39mrow[\u001b[38;5;124m'\u001b[39m\u001b[38;5;124m名稱\u001b[39m\u001b[38;5;124m'\u001b[39m]\n\u001b[0;32m     15\u001b[0m  )\u001b[38;5;241m.\u001b[39madd_to(marker_cluster)\n\u001b[0;32m     17\u001b[0m \u001b[38;5;66;03m# Save the map to an HTML file and display the map\u001b[39;00m\n",
      "\u001b[1;31mNameError\u001b[0m: name 'ibox_data' is not defined"
     ]
    }
   ],
   "source": [
    "import folium\n",
    "from folium.plugins import MarkerCluster\n",
    "\n",
    "# Create a map centered on Taiwan\n",
    "taiwan_map = folium.Map(location=[23.6978, 120.9605], zoom_start=7)\n",
    "\n",
    "# Add marker cluster for better visualization when there are many points\n",
    "marker_cluster = MarkerCluster().add_to(taiwan_map)\n",
    "\n",
    "# Add iPostbox locations to the map\n",
    "for index, row in ibox_data.iterrows():\n",
    " folium.Marker(\n",
    " location=[row['座標y'], row['座標x']],\n",
    " popup=row['名稱']\n",
    " ).add_to(marker_cluster)\n",
    "\n",
    "# Save the map to an HTML file and display the map\n",
    "map_file_path = \"taiwan_ipostbox_map.html\"\n",
    "taiwan_map.save(map_file_path)\n",
    "\n",
    "map_file_path # Return the path to the saved map file\n"
   ]
  },
  {
   "cell_type": "code",
   "execution_count": null,
   "id": "4789dd51-5198-484a-8e9e-e60781e2fb65",
   "metadata": {},
   "outputs": [],
   "source": []
  }
 ],
 "metadata": {
  "kernelspec": {
   "display_name": "Python 3 (ipykernel)",
   "language": "python",
   "name": "python3"
  },
  "language_info": {
   "codemirror_mode": {
    "name": "ipython",
    "version": 3
   },
   "file_extension": ".py",
   "mimetype": "text/x-python",
   "name": "python",
   "nbconvert_exporter": "python",
   "pygments_lexer": "ipython3",
   "version": "3.12.7"
  }
 },
 "nbformat": 4,
 "nbformat_minor": 5
}
